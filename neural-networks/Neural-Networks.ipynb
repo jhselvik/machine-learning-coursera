{
 "cells": [
  {
   "cell_type": "markdown",
   "metadata": {},
   "source": [
    "# Neural Networks"
   ]
  },
  {
   "cell_type": "code",
   "execution_count": 1,
   "metadata": {},
   "outputs": [],
   "source": [
    "import pandas as pd\n",
    "import numpy as np\n",
    "import matplotlib as mpl\n",
    "import matplotlib.pyplot as plt\n",
    "\n",
    "from scipy.io import loadmat\n",
    "\n",
    "%matplotlib inline"
   ]
  },
  {
   "cell_type": "markdown",
   "metadata": {},
   "source": [
    "## Visualize the data"
   ]
  },
  {
   "cell_type": "code",
   "execution_count": 2,
   "metadata": {},
   "outputs": [],
   "source": [
    "def ndarray_description(x):\n",
    "    return \"shape: {}, min: {}, max: {}\".format(x.shape, x.min(), x.max())"
   ]
  },
  {
   "cell_type": "code",
   "execution_count": 3,
   "metadata": {},
   "outputs": [
    {
     "name": "stdout",
     "output_type": "stream",
     "text": [
      "X shape: (5000, 401), min: -0.13196323019852488, max: 1.127688299158888\n",
      "y shape: (5000, 1), min: 1, max: 10\n"
     ]
    }
   ],
   "source": [
    "datafile = 'data/ex4data1.mat'\n",
    "mat = loadmat(datafile)\n",
    "X, y = mat['X'], mat['y']\n",
    "\n",
    "# insert column of ones\n",
    "X = np.insert(X, 0, 1, axis=1)\n",
    "\n",
    "print(\"X\", ndarray_description(X))  # 5000 images with 400 pixels (20x20)\n",
    "print(\"y\", ndarray_description(y))  # Labeled classification 1-10, 10 represents 0"
   ]
  },
  {
   "cell_type": "code",
   "execution_count": 4,
   "metadata": {},
   "outputs": [
    {
     "data": {
      "text/plain": [
       "(-0.5, 399.5, 19.5, -0.5)"
      ]
     },
     "execution_count": 4,
     "metadata": {},
     "output_type": "execute_result"
    },
    {
     "data": {
      "image/png": "[encoded data removed]",
      "text/plain": [
       "<Figure size 1152x144 with 1 Axes>"
      ]
     },
     "metadata": {
      "needs_background": "light"
     },
     "output_type": "display_data"
    }
   ],
   "source": [
    "sample = np.random.choice(X.shape[0], 20)  # 20 row indices from X\n",
    "\n",
    "fig, ax = plt.subplots(figsize=(16, 2))\n",
    "ax.imshow(X[sample, 1:].reshape(-1, 20).T, cmap='gray_r')  # 0 index is 1 constant\n",
    "ax.axis('off')"
   ]
  },
  {
   "cell_type": "code",
   "execution_count": 5,
   "metadata": {},
   "outputs": [
    {
     "data": {
      "text/plain": [
       "dict_keys(['__header__', '__version__', '__globals__', 'Theta1', 'Theta2'])"
      ]
     },
     "execution_count": 5,
     "metadata": {},
     "output_type": "execute_result"
    }
   ],
   "source": [
    "weights = loadmat('data/ex4weights.mat')\n",
    "weights.keys()"
   ]
  },
  {
   "cell_type": "code",
   "execution_count": 6,
   "metadata": {},
   "outputs": [
    {
     "name": "stdout",
     "output_type": "stream",
     "text": [
      "theta1 shape: (25, 401), min: -1.463369318005054, max: 1.0089920104197974\n",
      "theta2 shape: (10, 26), min: -4.030847527504247, max: 3.2115848427114373\n",
      "params shape: (10285,), min: -4.030847527504247, max: 3.2115848427114373\n"
     ]
    }
   ],
   "source": [
    "theta1, theta2 = weights['Theta1'], weights['Theta2']\n",
    "print(\"theta1\", ndarray_description(theta1))\n",
    "print(\"theta2\", ndarray_description(theta2))\n",
    "\n",
    "params = np.r_[theta1.ravel(), theta2.ravel()]  # quick way to create an array\n",
    "print(\"params\", ndarray_description(params))    # flattened vector of all params"
   ]
  },
  {
   "cell_type": "markdown",
   "metadata": {},
   "source": [
    "## Feed Forward and Cost functions"
   ]
  },
  {
   "cell_type": "markdown",
   "metadata": {},
   "source": [
    "### Sigmoid gradient\n",
    "#### $$ g'(z) = g(z)(1 - g(z))$$\n",
    "where $$ g(z) = \\frac{1}{1+e^{-z}}$$"
   ]
  },
  {
   "cell_type": "code",
   "execution_count": 7,
   "metadata": {},
   "outputs": [],
   "source": [
    "def sigmoid(z):\n",
    "    return (1 / (1 + np.exp(-z)))"
   ]
  },
  {
   "cell_type": "code",
   "execution_count": 8,
   "metadata": {},
   "outputs": [],
   "source": [
    "def sigmoid_gradient(z):\n",
    "    return (sigmoid(z) * (1-sigmoid(z)))"
   ]
  },
  {
   "cell_type": "markdown",
   "metadata": {},
   "source": [
    "### Cost Function \n",
    "#### $$ J(\\theta) = \\frac{1}{m}\\sum_{i=1}^{m}\\sum_{k=1}^{K}\\big[-y^{(i)}_{k}\\, log\\,(( h_\\theta\\,(x^{(i)}))_k)-(1-y^{(i)}_k)\\,log\\,(1-h_\\theta(x^{(i)}))_k)\\big]$$\n",
    "\n",
    "### Regularized Cost Function\n",
    "#### $$ J(\\theta) = \\frac{1}{m}\\sum_{i=1}^{m}\\sum_{k=1}^{K}\\bigg[-y^{(i)}_{k}\\, log\\,(( h_\\theta\\,(x^{(i)}))_k)-(1-y^{(i)}_k)\\,log\\,(1-h_\\theta(x^{(i)}))_k)\\bigg] + \\frac{\\lambda}{2m}\\bigg[\\sum_{j=1}^{25}\\sum_{k=1}^{400}(\\Theta_{j,k}^{(1)})^2+\\sum_{j=1}^{10}\\sum_{k=1}^{25}(\\Theta_{j,k}^{(2)})^2\\bigg]$$"
   ]
  },
  {
   "cell_type": "markdown",
   "metadata": {},
   "source": [
    "K - number of units (excluding the bias) in layer l"
   ]
  },
  {
   "cell_type": "code",
   "execution_count": 9,
   "metadata": {},
   "outputs": [],
   "source": [
    "def forward_propagate(X, theta1, theta2):\n",
    "    m = X.shape[0]  # 5000\n",
    "    a1 = X          # 5000x401, 5000 examples with 401 units to map to next layer\n",
    "    \n",
    "    z2 = theta1.dot(a1.T)  # 25x401 * 401x5000 = 25x5000\n",
    "    a2 = np.insert(sigmoid(z2.T), 0, values=np.ones(m), axis=1) # 5000x26, 5000 examples with 26 units\n",
    "    \n",
    "    z3 = theta2.dot(a2.T)  # 10x26 * 26x5000 = 10x5000\n",
    "    a3 = sigmoid(z3.T)     # 5000x10, 5000 examples with 10 output units (h vector)\n",
    "    \n",
    "    return a1, z2, a2, z3, a3"
   ]
  },
  {
   "cell_type": "code",
   "execution_count": 10,
   "metadata": {},
   "outputs": [],
   "source": [
    "def cost(params, input_layer_size, hidden_layer_size, num_labels, X, y, learning_rate):\n",
    "    # Reshape params into arrays for each layer\n",
    "    theta1 = params[0:(hidden_layer_size*(input_layer_size+1))].reshape(hidden_layer_size, (input_layer_size+1))\n",
    "    theta2 = params[(hidden_layer_size*(input_layer_size+1)):].reshape(num_labels, (hidden_layer_size+1))\n",
    "    \n",
    "    m = X.shape[0]  # 5000\n",
    "    y_matrix = pd.get_dummies(y.ravel()).values  # ndarray (5000, 10)\n",
    "    \n",
    "    # Forward propagate\n",
    "    a1, z2, a2, z3, a3 = forward_propagate(X, theta1, theta2)\n",
    "    \n",
    "    # Cost calculation, sums 5000x10 arrays\n",
    "    J = -1*(1/m) * np.sum((np.log(a3)*(y_matrix) + np.log(1-a3)*(1-y_matrix))) # scalar\n",
    "    \n",
    "    # add regulation term\n",
    "    reg = (learning_rate/(2*m)) * ( np.sum(np.square(theta1[:, 1:])) + np.sum(np.square(theta2[:, 1:])) )  # scalar\n",
    "    J += reg\n",
    "    \n",
    "    # d - error of each node\n",
    "    d3 = a3 - y_matrix  # 5000x10, 5000 examples with 10 node error values in layer 3\n",
    "    d2 = theta2[:, 1:].T.dot(d3.T) * sigmoid_gradient(z2)  # 25x10*10x5000 .* 25x5000 = 25x5000\n",
    "    d2 = d2.T           # 5000x25, 5000 examples with 25 node error values in layer 2\n",
    "    \n",
    "    # deltas - error value for each theta value\n",
    "    delta1 = d2.T.dot(a1)    # 25x5000*5000x401 = 25x401\n",
    "    delta2 = d3.T.dot(a2)    # 10x5000*5000x26  = 10x26\n",
    "    \n",
    "    # replace first coumn of theta values with 1, for bias\n",
    "    # c_ creates arrays with columns\n",
    "    theta1_ = np.c_[np.ones((theta1.shape[0], 1)), theta1[:, 1:]]  # 25x401\n",
    "    theta2_ = np.c_[np.ones((theta2.shape[0], 1)), theta2[:, 1:]]  # 10x26\n",
    "    \n",
    "    # compute theta gradients\n",
    "    theta1_grad = delta1/m + (theta1_*reg)/m\n",
    "    theta2_grad = delta2/m + (theta2_*reg)/m\n",
    "    \n",
    "    # unravel the theta matrices into a single array (a tuple)\n",
    "    grad = np.concatenate((np.ravel(theta1_grad), np.ravel(theta2_grad)))\n",
    "    \n",
    "    return J, grad"
   ]
  },
  {
   "cell_type": "code",
   "execution_count": 11,
   "metadata": {},
   "outputs": [],
   "source": [
    "J, grad = cost(params, 400, 25, 10, X, y, 0)"
   ]
  },
  {
   "cell_type": "code",
   "execution_count": 12,
   "metadata": {},
   "outputs": [
    {
     "name": "stdout",
     "output_type": "stream",
     "text": [
      "Cost with given theta weights: 0.28762916516131887\n"
     ]
    }
   ],
   "source": [
    "print(\"Cost with given theta weights:\", J)"
   ]
  },
  {
   "cell_type": "code",
   "execution_count": 13,
   "metadata": {},
   "outputs": [
    {
     "name": "stdout",
     "output_type": "stream",
     "text": [
      "grad shape: (10285,), min: -0.0019544251591015957, max: 0.0025968523726689185\n"
     ]
    }
   ],
   "source": [
    "print(\"grad\", ndarray_description(grad))"
   ]
  },
  {
   "cell_type": "markdown",
   "metadata": {},
   "source": [
    "## Train the network"
   ]
  },
  {
   "cell_type": "markdown",
   "metadata": {},
   "source": [
    "### Setup"
   ]
  },
  {
   "cell_type": "code",
   "execution_count": 14,
   "metadata": {},
   "outputs": [
    {
     "name": "stdout",
     "output_type": "stream",
     "text": [
      "initial random params shape: (10285,), min: -0.12499945018789832, max: 0.12494644920413536\n"
     ]
    }
   ],
   "source": [
    "input_size = 400\n",
    "hidden_size = 25\n",
    "num_labels = 10\n",
    "learning_rate = 1\n",
    "\n",
    "# randomly initialize a parameter array of the size of the full network's parameters\n",
    "params = (np.random.random(size=hidden_size * (input_size + 1) + num_labels * (hidden_size + 1)) - 0.5) * 0.25\n",
    "print(\"initial random params\", ndarray_description(params))\n",
    "\n",
    "# unravel the parameter array into parameter matrices for each layer\n",
    "theta1 = np.matrix(np.reshape(params[:hidden_size * (input_size + 1)], (hidden_size, (input_size + 1))))\n",
    "theta2 = np.matrix(np.reshape(params[hidden_size * (input_size + 1):], (num_labels, (hidden_size + 1))))"
   ]
  },
  {
   "cell_type": "code",
   "execution_count": 22,
   "metadata": {},
   "outputs": [],
   "source": [
    "a1, z2, a2, z3, h = forward_propagate(X, theta1, theta2)"
   ]
  },
  {
   "cell_type": "code",
   "execution_count": 23,
   "metadata": {},
   "outputs": [
    {
     "name": "stdout",
     "output_type": "stream",
     "text": [
      "Initial cost 7.148742290984698\n",
      "Initial gradient shape: (10285,), min: -0.04400231354948956, max: 0.4742170108285923\n"
     ]
    }
   ],
   "source": [
    "J, grad = cost(params, input_size, hidden_size, num_labels, X, y, learning_rate)\n",
    "print(\"Initial cost\", J)\n",
    "print(\"Initial gradient\", ndarray_description(grad))"
   ]
  },
  {
   "cell_type": "markdown",
   "metadata": {},
   "source": [
    "### Train"
   ]
  },
  {
   "cell_type": "code",
   "execution_count": 24,
   "metadata": {},
   "outputs": [
    {
     "data": {
      "text/plain": [
       "     fun: 0.41517849683673425\n",
       "     jac: array([ 5.37076792e-04, -1.75763816e-06, -4.46982889e-06, ...,\n",
       "       -4.18455385e-04, -4.28146970e-04, -3.27424216e-05])\n",
       " message: 'Max. number of function evaluations reached'\n",
       "    nfev: 250\n",
       "     nit: 18\n",
       "  status: 3\n",
       " success: False\n",
       "       x: array([-0.25938728, -0.03013275, -0.07663025, ...,  0.72323524,\n",
       "       -1.24598204, -0.56611822])"
      ]
     },
     "execution_count": 24,
     "metadata": {},
     "output_type": "execute_result"
    }
   ],
   "source": [
    "from scipy.optimize import minimize\n",
    "\n",
    "# minimize the the parameters with cost and grad calculations\n",
    "fmin = minimize(fun=cost, x0=params, args=(input_size, hidden_size, num_labels, X, y, learning_rate),\n",
    "                method='TNC', jac=True, options={'maxiter': 250})\n",
    "fmin"
   ]
  },
  {
   "cell_type": "code",
   "execution_count": 41,
   "metadata": {},
   "outputs": [
    {
     "name": "stdout",
     "output_type": "stream",
     "text": [
      "fmin.x, the optimized parameter values shape: (10285,), min: -8.029154708569443, max: 5.678796956552972\n"
     ]
    }
   ],
   "source": [
    "opt_params = fmin.x\n",
    "print(\"fmin.x, the optimized parameter values\", ndarray_description(opt_params))"
   ]
  },
  {
   "cell_type": "code",
   "execution_count": 42,
   "metadata": {},
   "outputs": [
    {
     "name": "stdout",
     "output_type": "stream",
     "text": [
      "fmin.jac, the optimized gradient values shape: (10285,), min: -0.0019035907656762485, max: 0.0018258976533056545\n"
     ]
    }
   ],
   "source": [
    "opt_grads = fmin.jac\n",
    "print(\"fmin.jac, the optimized gradient values\", ndarray_description(opt_grads))"
   ]
  },
  {
   "cell_type": "code",
   "execution_count": 26,
   "metadata": {
    "scrolled": true
   },
   "outputs": [
    {
     "name": "stdout",
     "output_type": "stream",
     "text": [
      "opt_theta1 shape: (25, 401), min: -2.140541304193211, max: 2.0850281068778354\n"
     ]
    }
   ],
   "source": [
    "opt_theta1 = fmin.x[0:(25*(400+1))].reshape(25, (400+1))\n",
    "print(\"opt_theta1\", ndarray_description(opt_theta1))"
   ]
  },
  {
   "cell_type": "code",
   "execution_count": 27,
   "metadata": {},
   "outputs": [
    {
     "name": "stdout",
     "output_type": "stream",
     "text": [
      "opt_theta2 shape: (10, 26), min: -8.029154708569443, max: 5.678796956552972\n"
     ]
    }
   ],
   "source": [
    "opt_theta2 = fmin.x[(25*(400+1)):].reshape(10, (25+1))\n",
    "print(\"opt_theta2\", ndarray_description(opt_theta2))"
   ]
  },
  {
   "cell_type": "code",
   "execution_count": 28,
   "metadata": {},
   "outputs": [
    {
     "name": "stdout",
     "output_type": "stream",
     "text": [
      "y_pred shape: (5000,), min: 1, max: 10\n"
     ]
    }
   ],
   "source": [
    "a1, z2, a2, z3, h = forward_propagate(X, opt_theta1, opt_theta2)\n",
    "y_pred = np.array(np.argmax(h, axis=1) + 1)\n",
    "print(\"y_pred\", ndarray_description(y_pred))"
   ]
  },
  {
   "cell_type": "code",
   "execution_count": 29,
   "metadata": {},
   "outputs": [
    {
     "name": "stdout",
     "output_type": "stream",
     "text": [
      "Accuracy: 99.16\n"
     ]
    }
   ],
   "source": [
    "correct = [1 if a == b else 0 for (a, b) in zip(y_pred, y)]\n",
    "accuracy = (sum(map(int, correct)) /  float(len(correct)))\n",
    "print(\"Accuracy:\", accuracy*100)"
   ]
  },
  {
   "cell_type": "markdown",
   "metadata": {},
   "source": [
    "## Gradient checking"
   ]
  },
  {
   "cell_type": "code",
   "execution_count": 72,
   "metadata": {},
   "outputs": [],
   "source": [
    "def check_gradient(thetas, deltas, X, y, learning_rate):\n",
    "    \"\"\"Check that 10 random gradient values are properly decreasing.\n",
    "    \n",
    "    \n",
    "    \"\"\"\n",
    "    eps = 0.0001  # 10e-4\n",
    "    n_elements = len(thetas)\n",
    "    \n",
    "    # pick 10 random examples to test\n",
    "    for i in range(10):\n",
    "        x = int(np.random.rand()*n_elements)\n",
    "        \n",
    "        eps_vector = np.zeros((n_elements, 1))\n",
    "        eps_vector[x] = eps\n",
    "        eps_vector = eps_vector.ravel()\n",
    "        \n",
    "        cost_high, _ = cost(thetas + eps_vector, 400, 25, 10, X, y, learning_rate)\n",
    "        cost_low, _ = cost(thetas - eps_vector, 400, 25, 10, X, y, learning_rate)\n",
    "        approximate_grad = (cost_high - cost_low) / float(2*eps)\n",
    "        print(\"Example {}: gradient {} ~= approximate {}\".format(x, deltas[x], approximate_grad))\n",
    "        print(\"        {}: difference {}\".format(x, deltas[x] - approximate_grad))\n",
    "        "
   ]
  },
  {
   "cell_type": "code",
   "execution_count": 73,
   "metadata": {},
   "outputs": [
    {
     "name": "stdout",
     "output_type": "stream",
     "text": [
      "Example 6279: gradient 9.895619448182038e-06 ~= approximate 5.253998625054379e-06\n",
      "        6279: difference 4.641620823127659e-06\n",
      "Example 9383: gradient -6.794103233781901e-06 ~= approximate 2.0885324858443965e-05\n",
      "        9383: difference -2.7679428092225867e-05\n",
      "Example 3014: gradient -1.7016001298300037e-05 ~= approximate -6.714003020213966e-05\n",
      "        3014: difference 5.012402890383962e-05\n",
      "Example 4842: gradient -3.1982395415763385e-06 ~= approximate -1.0248908388632572e-05\n",
      "        4842: difference 7.050668847056233e-06\n",
      "Example 409: gradient 3.4944243357858516e-06 ~= approximate 1.4623992572460054e-05\n",
      "        409: difference -1.1129568236674202e-05\n",
      "Example 4053: gradient 3.96699864942952e-06 ~= approximate 1.3726218217602337e-05\n",
      "        4053: difference -9.759219568172816e-06\n",
      "Example 7657: gradient -3.2009903686856975e-06 ~= approximate -8.876264168122816e-06\n",
      "        7657: difference 5.675273799437118e-06\n",
      "Example 6625: gradient -0.0001614903008413506 ~= approximate -7.575394256331691e-05\n",
      "        6625: difference -8.57363582780337e-05\n",
      "Example 8096: gradient 0.00015188512697462072 ~= approximate 0.00015303560751966927\n",
      "        8096: difference -1.1504805450485514e-06\n",
      "Example 8928: gradient 7.450661510004263e-06 ~= approximate 6.264801455380109e-06\n",
      "        8928: difference 1.1858600546241541e-06\n"
     ]
    }
   ],
   "source": [
    "check_gradient(opt_params, opt_grads, X, y, learning_rate)"
   ]
  },
  {
   "cell_type": "code",
   "execution_count": null,
   "metadata": {},
   "outputs": [],
   "source": []
  }
 ],
 "metadata": {
  "kernelspec": {
   "display_name": "Python 3",
   "language": "python",
   "name": "python3"
  },
  "language_info": {
   "codemirror_mode": {
    "name": "ipython",
    "version": 3
   },
   "file_extension": ".py",
   "mimetype": "text/x-python",
   "name": "python",
   "nbconvert_exporter": "python",
   "pygments_lexer": "ipython3",
   "version": "3.7.0"
  }
 },
 "nbformat": 4,
 "nbformat_minor": 2
}
