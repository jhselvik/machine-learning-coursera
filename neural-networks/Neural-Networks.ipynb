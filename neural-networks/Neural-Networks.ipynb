{
 "cells": [
  {
   "cell_type": "markdown",
   "metadata": {},
   "source": [
    "# Neural Networks"
   ]
  },
  {
   "cell_type": "code",
   "execution_count": 1,
   "metadata": {},
   "outputs": [],
   "source": [
    "import pandas as pd\n",
    "import numpy as np\n",
    "import matplotlib as mpl\n",
    "import matplotlib.pyplot as plt\n",
    "\n",
    "from scipy.io import loadmat\n",
    "\n",
    "%matplotlib inline"
   ]
  },
  {
   "cell_type": "markdown",
   "metadata": {},
   "source": [
    "## Visualize the data"
   ]
  },
  {
   "cell_type": "code",
   "execution_count": 2,
   "metadata": {},
   "outputs": [],
   "source": [
    "def ndarray_description(x):\n",
    "    \"\"\"Quick information on NDArrays.\"\"\"\n",
    "    return \"shape: {}, min: {}, max: {}\".format(x.shape, x.min(), x.max())"
   ]
  },
  {
   "cell_type": "code",
   "execution_count": 3,
   "metadata": {},
   "outputs": [
    {
     "name": "stdout",
     "output_type": "stream",
     "text": [
      "X shape: (5000, 401), min: -0.13196323019852488, max: 1.127688299158888\n",
      "y shape: (5000, 1), min: 1, max: 10\n"
     ]
    }
   ],
   "source": [
    "datafile = 'data/ex4data1.mat'\n",
    "mat = loadmat(datafile)\n",
    "X, y = mat['X'], mat['y']\n",
    "\n",
    "# insert column of ones\n",
    "X = np.insert(X, 0, 1, axis=1)\n",
    "\n",
    "print(\"X\", ndarray_description(X))  # 5000 images with 400 pixels (20x20)\n",
    "print(\"y\", ndarray_description(y))  # Labeled classification 1-10, 10 represents 0"
   ]
  },
  {
   "cell_type": "code",
   "execution_count": 4,
   "metadata": {},
   "outputs": [
    {
     "data": {
      "text/plain": [
       "(-0.5, 399.5, 19.5, -0.5)"
      ]
     },
     "execution_count": 4,
     "metadata": {},
     "output_type": "execute_result"
    },
    {
     "data": {
      "image/png": "[encoded data removed]",
      "text/plain": [
       "<Figure size 1152x144 with 1 Axes>"
      ]
     },
     "metadata": {
      "needs_background": "light"
     },
     "output_type": "display_data"
    }
   ],
   "source": [
    "sample = np.random.choice(X.shape[0], 20)  # 20 row indices from X\n",
    "\n",
    "fig, ax = plt.subplots(figsize=(16, 2))\n",
    "ax.imshow(X[sample, 1:].reshape(-1, 20).T, cmap='gray_r')  # 0 index is 1 constant\n",
    "ax.axis('off')"
   ]
  },
  {
   "cell_type": "code",
   "execution_count": 5,
   "metadata": {},
   "outputs": [
    {
     "data": {
      "text/plain": [
       "dict_keys(['__header__', '__version__', '__globals__', 'Theta1', 'Theta2'])"
      ]
     },
     "execution_count": 5,
     "metadata": {},
     "output_type": "execute_result"
    }
   ],
   "source": [
    "weights = loadmat('data/ex4weights.mat')\n",
    "weights.keys()"
   ]
  },
  {
   "cell_type": "code",
   "execution_count": 7,
   "metadata": {},
   "outputs": [
    {
     "name": "stdout",
     "output_type": "stream",
     "text": [
      "Given theta1 shape: (25, 401), min: -1.463369318005054, max: 1.0089920104197974\n",
      "Given theta2 shape: (10, 26), min: -4.030847527504247, max: 3.2115848427114373\n",
      "params shape: (10285,), min: -4.030847527504247, max: 3.2115848427114373\n"
     ]
    }
   ],
   "source": [
    "theta1, theta2 = weights['Theta1'], weights['Theta2']\n",
    "print(\"Given theta1\", ndarray_description(theta1))\n",
    "print(\"Given theta2\", ndarray_description(theta2))\n",
    "\n",
    "params = np.r_[theta1.ravel(), theta2.ravel()]  # quick way to create an array\n",
    "print(\"params\", ndarray_description(params))    # flattened vector of all params"
   ]
  },
  {
   "cell_type": "markdown",
   "metadata": {},
   "source": [
    "## Feed Forward and Cost functions"
   ]
  },
  {
   "cell_type": "markdown",
   "metadata": {},
   "source": [
    "### Sigmoid gradient\n",
    "#### $$ g'(z) = g(z)(1 - g(z))$$\n",
    "where $$ g(z) = \\frac{1}{1+e^{-z}}$$"
   ]
  },
  {
   "cell_type": "code",
   "execution_count": 8,
   "metadata": {},
   "outputs": [],
   "source": [
    "def sigmoid(z):\n",
    "    return (1 / (1 + np.exp(-z)))"
   ]
  },
  {
   "cell_type": "code",
   "execution_count": 9,
   "metadata": {},
   "outputs": [],
   "source": [
    "def sigmoid_gradient(z):\n",
    "    return (sigmoid(z) * (1-sigmoid(z)))"
   ]
  },
  {
   "cell_type": "markdown",
   "metadata": {},
   "source": [
    "### Cost Function \n",
    "#### $$ J(\\theta) = \\frac{1}{m}\\sum_{i=1}^{m}\\sum_{k=1}^{K}\\big[-y^{(i)}_{k}\\, log\\,(( h_\\theta\\,(x^{(i)}))_k)-(1-y^{(i)}_k)\\,log\\,(1-h_\\theta(x^{(i)}))_k)\\big]$$\n",
    "\n",
    "### Regularized Cost Function\n",
    "#### $$ J(\\theta) = \\frac{1}{m}\\sum_{i=1}^{m}\\sum_{k=1}^{K}\\bigg[-y^{(i)}_{k}\\, log\\,(( h_\\theta\\,(x^{(i)}))_k)-(1-y^{(i)}_k)\\,log\\,(1-h_\\theta(x^{(i)}))_k)\\bigg] + \\frac{\\lambda}{2m}\\bigg[\\sum_{j=1}^{25}\\sum_{k=1}^{400}(\\Theta_{j,k}^{(1)})^2+\\sum_{j=1}^{10}\\sum_{k=1}^{25}(\\Theta_{j,k}^{(2)})^2\\bigg]$$"
   ]
  },
  {
   "cell_type": "markdown",
   "metadata": {},
   "source": [
    "K - number of units (excluding the bias) in layer l"
   ]
  },
  {
   "cell_type": "code",
   "execution_count": 11,
   "metadata": {},
   "outputs": [],
   "source": [
    "def forward_propagate(X, theta1, theta2):\n",
    "    \"\"\"Given a set of examples and weights, compute the forward prop arrays.\n",
    "    \n",
    "    This is a vectorized solution!\n",
    "    \n",
    "    :param numpy.ndarray X: 5000 examples (rows) with 401 input values as vectors\n",
    "    :param numpy.ndarray theta1: 25 hidden units receive 401 values\n",
    "    :param numpy.ndarray theta2: 10 output units receive 26 values\n",
    "    \n",
    "    :returns: a1 - 5000 examples with 401 activation values for input layer\n",
    "    :returns: z2 - 25 hidden layer values for each of the 5000 examples \n",
    "    :returns: a2 - 5000 examples with 26 activation values for hidden layer\n",
    "    :returns: z3 - 10 output layer values for each of the 5000 examples\n",
    "    :returns: a3 - 5000 examples with 10 activation values (probabilities) for each output class\n",
    "    \"\"\"\n",
    "    m = X.shape[0]  # 5000\n",
    "    a1 = X          # 5000x401, 5000 examples with 401 units to map to next layer\n",
    "    \n",
    "    z2 = theta1.dot(a1.T)  # 25x401 * 401x5000 = 25x5000\n",
    "    a2 = np.insert(sigmoid(z2.T), 0, values=np.ones(m), axis=1) # 5000x26, 5000 examples with 26 units\n",
    "    \n",
    "    z3 = theta2.dot(a2.T)  # 10x26 * 26x5000 = 10x5000\n",
    "    a3 = sigmoid(z3.T)     # 5000x10, 5000 examples with 10 output units (h vector)\n",
    "    \n",
    "    return a1, z2, a2, z3, a3"
   ]
  },
  {
   "cell_type": "code",
   "execution_count": 12,
   "metadata": {},
   "outputs": [],
   "source": [
    "def cost(params, input_layer_size, hidden_layer_size, num_labels, X, y, learning_rate):\n",
    "    \"\"\"Given a set of examples and params, compute the cost and a vector of gradient values for each param.\n",
    "    \n",
    "    This is a vectorized solution!\n",
    "    \n",
    "    :param numpy.ndarray params: Vector of theta values for both layers, (10285,)\n",
    "    :param int input_layer_size: number of input units, excluding bias\n",
    "    :param int hidden_layer_size: number of hidden units, excluding bias\n",
    "    :param int num_labels: number of output units, coresponding to class label\n",
    "    :param numpy.ndarray X: 5000 examples (rows) with 401 input values as vectors\n",
    "    :param numpy.ndarray y: 5000 labels (rows) with a single class, 1-10\n",
    "    :param int learning_rate: lambda value\n",
    "    \n",
    "    :returns: J - an int of the cost value for given examples and params\n",
    "    :returns: grad - numpy.ndarray vector (10285,) of gradient values for each theta\n",
    "    \"\"\"\n",
    "    # Reshape params into arrays for each layer\n",
    "    theta1 = params[0:(hidden_layer_size*(input_layer_size+1))].reshape(hidden_layer_size, (input_layer_size+1))\n",
    "    theta2 = params[(hidden_layer_size*(input_layer_size+1)):].reshape(num_labels, (hidden_layer_size+1))\n",
    "    \n",
    "    m = X.shape[0]  # 5000\n",
    "    y_matrix = pd.get_dummies(y.ravel()).values  # ndarray (5000, 10)\n",
    "    \n",
    "    # Forward propagate\n",
    "    a1, z2, a2, z3, a3 = forward_propagate(X, theta1, theta2)\n",
    "    \n",
    "    # Cost calculation, sums 5000x10 arrays\n",
    "    J = -1*(1/m) * np.sum((np.log(a3)*(y_matrix) + np.log(1-a3)*(1-y_matrix))) # scalar\n",
    "    \n",
    "    # add regulation term\n",
    "    reg = (learning_rate/(2*m)) * ( np.sum(np.square(theta1[:, 1:])) + np.sum(np.square(theta2[:, 1:])) )  # scalar\n",
    "    J += reg\n",
    "    \n",
    "    # d - error of each node\n",
    "    d3 = a3 - y_matrix  # 5000x10, 5000 examples with 10 node error values in layer 3\n",
    "    d2 = theta2[:, 1:].T.dot(d3.T) * sigmoid_gradient(z2)  # 25x10*10x5000 .* 25x5000 = 25x5000\n",
    "    d2 = d2.T           # 5000x25, 5000 examples with 25 node error values in layer 2\n",
    "    \n",
    "    # deltas - error value for each theta value\n",
    "    delta1 = d2.T.dot(a1)    # 25x5000*5000x401 = 25x401\n",
    "    delta2 = d3.T.dot(a2)    # 10x5000*5000x26  = 10x26\n",
    "    \n",
    "    # replace first coumn of theta values with 1, for bias\n",
    "    # c_ creates arrays with columns\n",
    "    theta1_ = np.c_[np.ones((theta1.shape[0], 1)), theta1[:, 1:]]  # 25x401\n",
    "    theta2_ = np.c_[np.ones((theta2.shape[0], 1)), theta2[:, 1:]]  # 10x26\n",
    "    \n",
    "    # compute theta gradients\n",
    "    theta1_grad = delta1/m + (theta1_*reg)/m\n",
    "    theta2_grad = delta2/m + (theta2_*reg)/m\n",
    "    \n",
    "    # unravel the theta matrices into a single array (a tuple)\n",
    "    grad = np.concatenate((np.ravel(theta1_grad), np.ravel(theta2_grad)))\n",
    "    \n",
    "    return J, grad"
   ]
  },
  {
   "cell_type": "code",
   "execution_count": 13,
   "metadata": {},
   "outputs": [],
   "source": [
    "J, grad = cost(params, 400, 25, 10, X, y, 0)"
   ]
  },
  {
   "cell_type": "code",
   "execution_count": 14,
   "metadata": {},
   "outputs": [
    {
     "name": "stdout",
     "output_type": "stream",
     "text": [
      "Cost with given theta weights: 0.28762916516131887\n"
     ]
    }
   ],
   "source": [
    "print(\"Cost with given theta weights:\", J)"
   ]
  },
  {
   "cell_type": "code",
   "execution_count": 15,
   "metadata": {},
   "outputs": [
    {
     "name": "stdout",
     "output_type": "stream",
     "text": [
      "grad shape: (10285,), min: -0.0019544251591015957, max: 0.0025968523726689185\n"
     ]
    }
   ],
   "source": [
    "print(\"grad\", ndarray_description(grad))"
   ]
  },
  {
   "cell_type": "markdown",
   "metadata": {},
   "source": [
    "## Train the network"
   ]
  },
  {
   "cell_type": "markdown",
   "metadata": {},
   "source": [
    "### Setup\n",
    "Define the number of uits in each layer, and a learning rate. Randomly initialize the theta parameters."
   ]
  },
  {
   "cell_type": "code",
   "execution_count": 16,
   "metadata": {},
   "outputs": [
    {
     "name": "stdout",
     "output_type": "stream",
     "text": [
      "initial random params shape: (10285,), min: -0.12498500918588684, max: 0.12492675750659171\n"
     ]
    }
   ],
   "source": [
    "input_size = 400\n",
    "hidden_size = 25\n",
    "num_labels = 10\n",
    "learning_rate = 1\n",
    "\n",
    "# randomly initialize a parameter array of the size of the full network's parameters\n",
    "params = (np.random.random(size=hidden_size * (input_size + 1) + num_labels * (hidden_size + 1)) - 0.5) * 0.25\n",
    "print(\"initial random params\", ndarray_description(params))\n",
    "\n",
    "# unravel the parameter array into parameter matrices for each layer\n",
    "theta1 = np.matrix(np.reshape(params[:hidden_size * (input_size + 1)], (hidden_size, (input_size + 1))))\n",
    "theta2 = np.matrix(np.reshape(params[hidden_size * (input_size + 1):], (num_labels, (hidden_size + 1))))"
   ]
  },
  {
   "cell_type": "code",
   "execution_count": 17,
   "metadata": {},
   "outputs": [],
   "source": [
    "# Take a look at the forward propagation calculations for initial theta values\n",
    "a1, z2, a2, z3, h = forward_propagate(X, theta1, theta2)"
   ]
  },
  {
   "cell_type": "code",
   "execution_count": 18,
   "metadata": {},
   "outputs": [
    {
     "name": "stdout",
     "output_type": "stream",
     "text": [
      "Initial cost 6.992887053335521\n",
      "Initial gradient shape: (10285,), min: -0.04395394906033365, max: 0.4495802021628922\n"
     ]
    }
   ],
   "source": [
    "J, grad = cost(params, input_size, hidden_size, num_labels, X, y, learning_rate)\n",
    "print(\"Initial cost\", J)\n",
    "print(\"Initial gradient\", ndarray_description(grad))"
   ]
  },
  {
   "cell_type": "markdown",
   "metadata": {},
   "source": [
    "### Train\n",
    "Minimize the the parameters with cost and gradient calculations."
   ]
  },
  {
   "cell_type": "code",
   "execution_count": 19,
   "metadata": {},
   "outputs": [
    {
     "data": {
      "text/plain": [
       "     fun: 0.42384351564362704\n",
       "     jac: array([-2.64548253e-05,  1.55371242e-06,  1.97247942e-06, ...,\n",
       "        3.71886449e-04,  1.86636537e-05,  3.79541604e-05])\n",
       " message: 'Max. number of function evaluations reached'\n",
       "    nfev: 250\n",
       "     nit: 18\n",
       "  status: 3\n",
       " success: False\n",
       "       x: array([ 0.60936248,  0.02438891,  0.03096237, ...,  0.69969268,\n",
       "       -0.92557465, -3.44444942])"
      ]
     },
     "execution_count": 19,
     "metadata": {},
     "output_type": "execute_result"
    }
   ],
   "source": [
    "from scipy.optimize import minimize\n",
    "\n",
    "fmin = minimize(fun=cost, x0=params, args=(input_size, hidden_size, num_labels, X, y, learning_rate),\n",
    "                method='TNC', jac=True, options={'maxiter': 250})\n",
    "fmin"
   ]
  },
  {
   "cell_type": "code",
   "execution_count": 28,
   "metadata": {},
   "outputs": [
    {
     "name": "stdout",
     "output_type": "stream",
     "text": [
      "fmin.x, the optimized parameter values - shape: (10285,), min: -7.593365932354857, max: 8.337163829183488\n"
     ]
    }
   ],
   "source": [
    "opt_params = fmin.x\n",
    "print(\"fmin.x, the optimized parameter values -\", ndarray_description(opt_params))"
   ]
  },
  {
   "cell_type": "code",
   "execution_count": 29,
   "metadata": {},
   "outputs": [
    {
     "name": "stdout",
     "output_type": "stream",
     "text": [
      "fmin.jac, the optimized gradient values - shape: (10285,), min: -0.0012042600886567408, max: 0.0012647309147665053\n"
     ]
    }
   ],
   "source": [
    "opt_grads = fmin.jac\n",
    "print(\"fmin.jac, the optimized gradient values -\", ndarray_description(opt_grads))"
   ]
  },
  {
   "cell_type": "code",
   "execution_count": 30,
   "metadata": {
    "scrolled": true
   },
   "outputs": [
    {
     "name": "stdout",
     "output_type": "stream",
     "text": [
      "opt_theta1 - shape: (25, 401), min: -2.523702767263656, max: 2.1772247357910177\n"
     ]
    }
   ],
   "source": [
    "opt_theta1 = fmin.x[0:(25*(400+1))].reshape(25, (400+1))\n",
    "print(\"opt_theta1 -\", ndarray_description(opt_theta1))"
   ]
  },
  {
   "cell_type": "code",
   "execution_count": 31,
   "metadata": {},
   "outputs": [
    {
     "name": "stdout",
     "output_type": "stream",
     "text": [
      "opt_theta2 - shape: (10, 26), min: -7.593365932354857, max: 8.337163829183488\n"
     ]
    }
   ],
   "source": [
    "opt_theta2 = fmin.x[(25*(400+1)):].reshape(10, (25+1))\n",
    "print(\"opt_theta2 -\", ndarray_description(opt_theta2))"
   ]
  },
  {
   "cell_type": "markdown",
   "metadata": {},
   "source": [
    "### Find Accuracy\n",
    "Compute the predictions with optimized theta values."
   ]
  },
  {
   "cell_type": "code",
   "execution_count": 32,
   "metadata": {},
   "outputs": [
    {
     "name": "stdout",
     "output_type": "stream",
     "text": [
      "y_pred shape: (5000,), min: 1, max: 10\n"
     ]
    }
   ],
   "source": [
    "a1, z2, a2, z3, h = forward_propagate(X, opt_theta1, opt_theta2)\n",
    "y_pred = np.array(np.argmax(h, axis=1) + 1)\n",
    "print(\"y_pred\", ndarray_description(y_pred))"
   ]
  },
  {
   "cell_type": "code",
   "execution_count": 33,
   "metadata": {},
   "outputs": [
    {
     "name": "stdout",
     "output_type": "stream",
     "text": [
      "Accuracy: 99.36\n"
     ]
    }
   ],
   "source": [
    "correct = [1 if a == b else 0 for (a, b) in zip(y_pred, y)]\n",
    "accuracy = (sum(map(int, correct)) /  float(len(correct)))\n",
    "print(\"Accuracy:\", accuracy*100)"
   ]
  },
  {
   "cell_type": "markdown",
   "metadata": {},
   "source": [
    "## Gradient checking"
   ]
  },
  {
   "cell_type": "code",
   "execution_count": 34,
   "metadata": {},
   "outputs": [],
   "source": [
    "def check_gradient(thetas, deltas, X, y, learning_rate):\n",
    "    \"\"\"Check that 10 random gradient values are properly adjusting.\n",
    "    \n",
    "    For an epsilon of 10e-4, you can assume about 4 significant digits of similarity. If the\n",
    "    difference between the actual gradient value and its calculated approximation is greater \n",
    "    than epsilon you may not be converging properly.\n",
    "    \n",
    "    :param numpy.ndarray thetas: A vector (10285,) of optimized theta values\n",
    "    :param numpy.ndarray deltas: A vector (10285,) of optimized delta values\n",
    "    :param numpy.ndarray X: 5000 examples (rows) with 401 input values as vectors\n",
    "    :param numpy.ndarray y: 5000 labels (rows) with a single class, 1-10\n",
    "    :param int learning_rate: lambda value\n",
    "    \"\"\"\n",
    "    eps = 0.0001  # 10e-4\n",
    "    n_elements = len(thetas)\n",
    "    \n",
    "    # pick 10 random examples to test\n",
    "    for i in range(10):\n",
    "        x = int(np.random.rand()*n_elements)\n",
    "        \n",
    "        # Create a vector of 0s for the epsilon differential \n",
    "        eps_vector = np.zeros((n_elements, 1))\n",
    "        eps_vector[x] = eps\n",
    "        eps_vector = eps_vector.ravel()\n",
    "        \n",
    "        # Visually inspect that the approximation is similar to the gradient value\n",
    "        cost_high, _ = cost(thetas + eps_vector, 400, 25, 10, X, y, learning_rate)\n",
    "        cost_low, _ = cost(thetas - eps_vector, 400, 25, 10, X, y, learning_rate)\n",
    "        approximate_grad = (cost_high - cost_low) / float(2*eps)\n",
    "        print(\"Example {}: gradient {} ~= approximate {}\".format(x, deltas[x], approximate_grad))\n",
    "        print(\"            difference {}\".format(deltas[x] - approximate_grad))\n",
    "        "
   ]
  },
  {
   "cell_type": "code",
   "execution_count": 35,
   "metadata": {},
   "outputs": [
    {
     "name": "stdout",
     "output_type": "stream",
     "text": [
      "Example 9223: gradient 0.00045796519414372314 ~= approximate 0.00039425949005522654\n",
      "            difference 6.37057040884966e-05\n",
      "Example 1559: gradient -2.1374457865392663e-05 ~= approximate -4.196581998572313e-05\n",
      "            difference 2.0591362120330466e-05\n",
      "Example 8032: gradient 1.1820688211391171e-07 ~= approximate 3.589517572066825e-07\n",
      "            difference -2.407448750927708e-07\n",
      "Example 748: gradient -4.249225790059663e-06 ~= approximate 7.785341510357924e-05\n",
      "            difference -8.210264089363891e-05\n",
      "Example 206: gradient 4.44954599443425e-05 ~= approximate 1.8208119734186567e-05\n",
      "            difference 2.6287340210155933e-05\n",
      "Example 6219: gradient 0.00020805402733261826 ~= approximate 0.00025225323246891307\n",
      "            difference -4.419920513629481e-05\n",
      "Example 5877: gradient 2.473032595594491e-05 ~= approximate 3.0120398675226312e-05\n",
      "            difference -5.390072719281403e-06\n",
      "Example 6713: gradient -8.448098895357415e-05 ~= approximate -7.583809802369501e-05\n",
      "            difference -8.642890929879137e-06\n",
      "Example 596: gradient -0.00012373168532748882 ~= approximate -8.262120154700625e-05\n",
      "            difference -4.111048378048257e-05\n",
      "Example 8478: gradient -4.151231695837136e-06 ~= approximate -8.011482310887885e-06\n",
      "            difference 3.860250615050749e-06\n"
     ]
    }
   ],
   "source": [
    "check_gradient(opt_params, opt_grads, X, y, learning_rate)"
   ]
  },
  {
   "cell_type": "markdown",
   "metadata": {},
   "source": [
    "## Visualize the hidden layer\n",
    "The trained theta1 values represent weights of each input pixel. "
   ]
  },
  {
   "cell_type": "code",
   "execution_count": 96,
   "metadata": {},
   "outputs": [],
   "source": [
    "import scipy.misc\n",
    "import matplotlib.cm as cm\n",
    "\n",
    "def display_hidden_layer(thetas):\n",
    "    \"\"\"Quick way to visualize hidden layer, but uses depricated functions.\"\"\"\n",
    "    # remove bias unit\n",
    "    params = thetas[:, 1:]\n",
    "    assert params.shape == (25, 400)\n",
    "    \n",
    "    width, height = 20, 20\n",
    "    nrows, ncolumns = 5, 5\n",
    "    big_picture = np.zeros((height*nrows, width*ncolumns))\n",
    "    \n",
    "    irow, icolumn = 0, 0\n",
    "    for row in params:\n",
    "        if icolumn == ncolumns:\n",
    "            irow += 1\n",
    "            icolumn = 0\n",
    "            \n",
    "        # create visualization\n",
    "        square = row.reshape(20, 20).T\n",
    "        big_picture[irow*height:irow*height+square.shape[0],\n",
    "                    icolumn*width:icolumn*width+square.shape[1]] = square\n",
    "        icolumn += 1\n",
    "        \n",
    "    fig = plt.figure(figsize=(6, 6))\n",
    "    img = scipy.misc.toimage(big_picture)\n",
    "    plt.imshow(img, cmap=cm.Greys_r)"
   ]
  },
  {
   "cell_type": "code",
   "execution_count": 97,
   "metadata": {},
   "outputs": [
    {
     "name": "stderr",
     "output_type": "stream",
     "text": [
      "/Users/joeselvik/.virtualenvs/machine-learning-coursera/lib/python3.7/site-packages/ipykernel_launcher.py:27: DeprecationWarning: `toimage` is deprecated!\n",
      "`toimage` is deprecated in SciPy 1.0.0, and will be removed in 1.2.0.\n",
      "Use Pillow's ``Image.fromarray`` directly instead.\n"
     ]
    },
    {
     "data": {
      "image/png": "[encoded data removed]",
      "text/plain": [
       "<Figure size 432x432 with 1 Axes>"
      ]
     },
     "metadata": {
      "needs_background": "light"
     },
     "output_type": "display_data"
    }
   ],
   "source": [
    "display_hidden_layer(opt_theta1)"
   ]
  }
 ],
 "metadata": {
  "kernelspec": {
   "display_name": "Python 3",
   "language": "python",
   "name": "python3"
  },
  "language_info": {
   "codemirror_mode": {
    "name": "ipython",
    "version": 3
   },
   "file_extension": ".py",
   "mimetype": "text/x-python",
   "name": "python",
   "nbconvert_exporter": "python",
   "pygments_lexer": "ipython3",
   "version": "3.7.0"
  }
 },
 "nbformat": 4,
 "nbformat_minor": 2
}
