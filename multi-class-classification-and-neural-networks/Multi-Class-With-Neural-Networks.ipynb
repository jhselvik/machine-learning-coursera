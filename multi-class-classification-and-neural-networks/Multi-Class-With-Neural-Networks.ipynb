{
 "cells": [
  {
   "cell_type": "markdown",
   "metadata": {},
   "source": [
    "# Multi-class Classification and Neural Networks"
   ]
  },
  {
   "cell_type": "code",
   "execution_count": 41,
   "metadata": {},
   "outputs": [],
   "source": [
    "%matplotlib inline\n",
    "import numpy as np\n",
    "import matplotlib.pyplot as plt\n",
    "import pandas as pd\n",
    "import scipy.io  # Used to load the OCTAVE *.mat files\n",
    "\n",
    "import scipy.misc                    # Used to show matrix as an image\n",
    "from scipy.optimize import minimize  # minimizes parameteres with cost and grad functions\n",
    "\n",
    "import matplotlib.cm as cm       # Used to display images in a specific colormap\n",
    "import random\n",
    "from scipy.special import expit  # Vectorized sigmoid function"
   ]
  },
  {
   "cell_type": "markdown",
   "metadata": {},
   "source": [
    "## Visualize the data"
   ]
  },
  {
   "cell_type": "code",
   "execution_count": 2,
   "metadata": {},
   "outputs": [],
   "source": [
    "def ndarray_description(x):\n",
    "    return \"shape: {}, min: {}, max: {}\".format(x.shape, x.min(), x.max())"
   ]
  },
  {
   "cell_type": "code",
   "execution_count": 5,
   "metadata": {},
   "outputs": [],
   "source": [
    "datafile = 'data/ex3data1.mat'\n",
    "mat = scipy.io.loadmat(datafile)\n",
    "X, y = mat['X'], mat['y']\n",
    "\n",
    "# insert column of ones\n",
    "X = np.insert(X, 0, 1, axis=1)"
   ]
  },
  {
   "cell_type": "code",
   "execution_count": 6,
   "metadata": {},
   "outputs": [
    {
     "name": "stdout",
     "output_type": "stream",
     "text": [
      "X shape: (5000, 401), min: -0.13196323019852488, max: 1.127688299158888\n",
      "y shape: (5000, 1), min: 1, max: 10\n"
     ]
    }
   ],
   "source": [
    "print(\"X\", ndarray_description(X))  # 5000 images with 400 pixels (20x20)\n",
    "print(\"y\", ndarray_description(y))  # Labeled classification 1-10, 10 represents 0"
   ]
  },
  {
   "cell_type": "code",
   "execution_count": 28,
   "metadata": {},
   "outputs": [
    {
     "data": {
      "text/plain": [
       "(-0.5, 399.5, 19.5, -0.5)"
      ]
     },
     "execution_count": 28,
     "metadata": {},
     "output_type": "execute_result"
    },
    {
     "data": {
      "image/png": "[encoded data removed]",
      "text/plain": [
       "<Figure size 1152x144 with 1 Axes>"
      ]
     },
     "metadata": {
      "needs_background": "light"
     },
     "output_type": "display_data"
    }
   ],
   "source": [
    "sample = np.random.choice(X.shape[0], 20)  # 20 row indices from X\n",
    "\n",
    "fig, ax = plt.subplots(figsize=(16, 2))\n",
    "ax.imshow(X[sample, 1:].reshape(-1,20).T, cmap='gray_r')  # 0 index is 1 constant\n",
    "ax.axis('off')"
   ]
  },
  {
   "cell_type": "markdown",
   "metadata": {},
   "source": [
    "## Multi-class Classification"
   ]
  },
  {
   "cell_type": "markdown",
   "metadata": {},
   "source": [
    "#### Logistic regression hypothesis\n",
    "#### $$ h_{\\theta}(x) = g(\\theta^{T}x)$$\n",
    "#### $$ g(z)=\\frac{1}{1+e^{−z}} $$"
   ]
  },
  {
   "cell_type": "code",
   "execution_count": 29,
   "metadata": {},
   "outputs": [],
   "source": [
    "def hypothesis(theta, X):\n",
    "    \"\"\"Vectorized computation of the hypothesis for each example X with a set of theta values.\n",
    "    \n",
    "    X dot-product theta takes 401 x(i) values in a row of X (a vector) and\n",
    "    multiples them with the 401 theta vector values. A.t * B = B.t * A if both are \n",
    "    vectors, so this vectorizes the g(theta.t * x) logistic hypothesis for all 5000\n",
    "    examples in X.\n",
    "    \n",
    "    :param numpy.ndarray theta: 401x1 vector of theta values\n",
    "    :param numpy.ndarray X: 5000x401 matrix of examples\n",
    "    \n",
    "    :returns: 5000x1 array\n",
    "    :rtype: numpy.ndarray\n",
    "    \"\"\"\n",
    "    return expit(np.dot(X, theta))"
   ]
  },
  {
   "cell_type": "markdown",
   "metadata": {},
   "source": [
    "## Cost function"
   ]
  },
  {
   "cell_type": "markdown",
   "metadata": {},
   "source": [
    "#### Regularized Cost Function \n",
    "#### $$ J(\\theta) = \\frac{1}{m}\\sum_{i=1}^{m}\\big[-y^{(i)}\\, log\\,( h_\\theta\\,(x^{(i)}))-(1-y^{(i)})\\,log\\,(1-h_\\theta(x^{(i)}))\\big] + \\frac{\\lambda}{2m}\\sum_{j=1}^{n}\\theta_{j}^{2}$$\n",
    "#### Vectorized Cost Function\n",
    "#### $$ J(\\theta) = \\frac{1}{m}\\big((\\,log\\,(g(X\\theta))^Ty+(\\,log\\,(1-g(X\\theta))^T(1-y)\\big) + \\frac{\\lambda}{2m}\\sum_{j=1}^{n}\\theta_{j}^{2}$$"
   ]
  },
  {
   "cell_type": "code",
   "execution_count": 78,
   "metadata": {},
   "outputs": [],
   "source": [
    "def cost(theta, X, y, learning_rate=0.): \n",
    "    \"\"\"Calculate the total cost for every example with a set of parameter values.\n",
    "    \n",
    "    Set learning_rate to non-zero to include regularization.\n",
    "\n",
    "    :param numpy.ndarray theta: An n- dimensional vector of parameter values (401x1)\n",
    "    :param numpy.ndarray X: An array of examples with n columns and m rows (5000x401)\n",
    "    :param numpy.ndarray y: The labeled prediction vector, m rows and 1 column (5000x1)\n",
    "    :param float learning_rate: parameter to tune the weight regularization holds on the cost function\n",
    "    \n",
    "    :rtype: np.array[numpy.float64]\n",
    "    \"\"\"\n",
    "    m = X.shape[0]            # 5000\n",
    "    h = hypothesis(theta, X)  # 5000x1 vector\n",
    "    \n",
    "    # use dot product to sum all terms in y * log(h) vectors\n",
    "    term1 = np.log(h).T.dot(-1*y)   # scalar\n",
    "    term2 = np.log(1-h).T.dot(1-y)  # scalar\n",
    "    reg = (learning_rate/(2*m)) * np.sum(np.square(theta[1:]))  # scalar, exclude theta[0]\n",
    "    \n",
    "    J = (1/m)*(term1-term2) + reg  # still 1x1 vectors\n",
    "    \n",
    "    if np.isnan(J[0]):\n",
    "        return np.inf\n",
    "    \n",
    "    return J[0]"
   ]
  },
  {
   "cell_type": "code",
   "execution_count": 79,
   "metadata": {},
   "outputs": [
    {
     "name": "stdout",
     "output_type": "stream",
     "text": [
      "initial_theta shape: (401, 1), min: 0.0, max: 0.0\n"
     ]
    }
   ],
   "source": [
    "# initial_theta = np.random.uniform(X.min(), X.max(), (X.shape[1], 1))  # 401x1\n",
    "initial_theta = np.zeros((X.shape[1],1))\n",
    "print(\"initial_theta\", ndarray_description(initial_theta))"
   ]
  },
  {
   "cell_type": "code",
   "execution_count": 80,
   "metadata": {},
   "outputs": [
    {
     "name": "stdout",
     "output_type": "stream",
     "text": [
      "h shape: (5000, 1), min: 0.5, max: 0.5\n"
     ]
    }
   ],
   "source": [
    "h = hypothesis(initial_theta, X)  # 5000x1\n",
    "print(\"h\", ndarray_description(h))"
   ]
  },
  {
   "cell_type": "code",
   "execution_count": 92,
   "metadata": {},
   "outputs": [
    {
     "name": "stdout",
     "output_type": "stream",
     "text": [
      "J shape: (1,), min: 160.39425758157174, max: 160.39425758157174\n"
     ]
    }
   ],
   "source": [
    "J = cost(initial_theta, X, y)\n",
    "print(\"J\", ndarray_description(J))"
   ]
  },
  {
   "cell_type": "markdown",
   "metadata": {},
   "source": [
    "#### Regularized Gradient\n",
    "\n",
    "#### $$ \\frac{\\delta J(\\theta)}{\\delta\\theta_{j}} = \\frac{1}{m}\\sum_{i=1}^{m} ( h_\\theta (x^{(i)})-y^{(i)})x^{(i)}_{j} + \\frac{\\lambda}{m}\\theta_{j}$$ \n",
    "#### ...vectorized\n",
    "#### $$ \\frac{\\delta J(\\theta)}{\\delta\\theta_{j}} = \\frac{1}{m} X^T(g(X\\theta)-y) + \\frac{\\lambda}{m}\\theta_{j}$$\n",
    "##### $$\\text{Note: intercept parameter } \\theta_{0} \\text{ is not to be regularized}$$"
   ]
  },
  {
   "cell_type": "code",
   "execution_count": 86,
   "metadata": {},
   "outputs": [],
   "source": [
    "def cost_gradient(theta, X, y, learning_rate=0.):\n",
    "    \"\"\"Calculate the gradient for every theta value.\n",
    "    \n",
    "    Set learning_rate to non-zero to include regularization.\n",
    "\n",
    "    :param numpy.ndarray theta: An n- dimensional vector of parameter values (401x1)\n",
    "    :param numpy.ndarray X: An array of examples with n columns and m rows (5000x401)\n",
    "    :param numpy.ndarray y: The labeled prediction vector, m rows and 1 column (5000x1)\n",
    "    :param float learning_rate: parameter to tune the weight regularization holds on the cost function\n",
    "    \n",
    "    :returns: 401x5000 array\n",
    "    :rtype: numpy.ndarray\n",
    "    \"\"\"\n",
    "    m = X.shape[0]                          # 5000\n",
    "    h = hypothesis(theta, X).reshape(-1,1)  # 5000x1 vector\n",
    "    \n",
    "    beta = h - y\n",
    "    reg = ((1.0/m) * initial_theta[1:]).reshape(-1,1)  # 400x1\n",
    "    reg = np.insert(reg, 0, 0).reshape(-1,1)           # insert a 0 for theta[0], 401x1\n",
    "    \n",
    "    grad = (1/m) * X.T.dot(beta)                       # 401x1\n",
    "    \n",
    "    return (grad + reg).flatten()  # 401x1"
   ]
  },
  {
   "cell_type": "code",
   "execution_count": 87,
   "metadata": {},
   "outputs": [
    {
     "name": "stdout",
     "output_type": "stream",
     "text": [
      "g shape: (401,), min: -5.0, max: 0.004095720569551439\n"
     ]
    }
   ],
   "source": [
    "g = cost_gradient(initial_theta, X, y)\n",
    "print(\"g\", ndarray_description(g))"
   ]
  },
  {
   "cell_type": "markdown",
   "metadata": {},
   "source": [
    "## One vs All Classification"
   ]
  },
  {
   "cell_type": "code",
   "execution_count": 173,
   "metadata": {},
   "outputs": [],
   "source": [
    "def one_vs_all(features, classes, K, learning_rate):\n",
    "    \"\"\"Compute optimal parameters for the features (X) to each class 1...K (y).\n",
    "        \n",
    "    :param numpy.ndarray features: An array of examples with n columns and m rows (5000x401)\n",
    "    :param numpy.ndarray classes: The labeled prediction vector, m rows and 1 column (5000x1)\n",
    "    :param int K: The number of classes in the classes array\n",
    "    :param float learning_rate: parameter to tune the weight regularization holds on the cost function\n",
    "    \n",
    "    :returns: an array of theta values for each class, 10x401\n",
    "    :rtype: numpy.ndarray\n",
    "    \"\"\"\n",
    "    initial_theta = np.zeros((X.shape[1], 1))  # 401x1\n",
    "    all_thetas = np.zeros((K, X.shape[1]))     # 10x401\n",
    "    \n",
    "    # labels 1 to 10\n",
    "    for c in np.arange(1, K+1):\n",
    "        res = minimize(cost, initial_theta, args=(X, (classes == c)*1, learning_rate),\n",
    "                       method=None, jac=cost_gradient, options={'maxiter': 50})\n",
    "        all_thetas[c-1] = res.x  # res.x is (401,) ndarray\n",
    "    \n",
    "    return all_thetas"
   ]
  },
  {
   "cell_type": "code",
   "execution_count": 174,
   "metadata": {},
   "outputs": [
    {
     "name": "stdout",
     "output_type": "stream",
     "text": [
      "optimal_thetas shape: (10, 401), min: -8.597227620895094, max: 2.69050229712157\n"
     ]
    }
   ],
   "source": [
    "optimal_thetas = one_vs_all(X, y, 10, 0.1)\n",
    "print(\"optimal_thetas\", ndarray_description(optimal_thetas))"
   ]
  },
  {
   "cell_type": "markdown",
   "metadata": {},
   "source": [
    "### Prediction"
   ]
  },
  {
   "cell_type": "code",
   "execution_count": 175,
   "metadata": {},
   "outputs": [],
   "source": [
    "def predict_one_vs_all(theta, X):\n",
    "    \"\"\"Returns a vector of class predictions (1-10) for each row in X.\n",
    "    \n",
    "    :param numpy.ndarray theta: An array where each row contains a set of theta values, 10x401\n",
    "    :param numpy.ndarray X: An array where each row contains the bias + variables, 5000x401\n",
    "    \n",
    "    :returns: An array of predictions (1-10) for each example, 5000x1\n",
    "    :rtype: numpy.ndarray\n",
    "    \"\"\"\n",
    "    # For each example (row) in X, compute the probability it belongs to each class\n",
    "    # transpose theta to get 5000x401 * 401x10 (X.dot(theta))\n",
    "    probability = expit(np.dot(X, theta.T))    # 5000x10\n",
    "    \n",
    "    # Each row in probability is an array of the probability for each class 0-9\n",
    "    # find the highest probability in each row, take it's index and add one for 1-10\n",
    "    # return a vector of predictions 1-10\n",
    "    return np.argmax(probability, axis=1) + 1  # 5000x1"
   ]
  },
  {
   "cell_type": "code",
   "execution_count": 176,
   "metadata": {},
   "outputs": [
    {
     "name": "stdout",
     "output_type": "stream",
     "text": [
      "Training set accuracy: 93.26\n"
     ]
    }
   ],
   "source": [
    "predictions = predict_one_vs_all(optimal_thetas, X)\n",
    "\n",
    "# compare each prediction to y, add them all up, and take average of matches\n",
    "accuracy = np.mean(predictions == y.ravel()) * 100\n",
    "print(\"Training set accuracy:\", accuracy)"
   ]
  },
  {
   "cell_type": "markdown",
   "metadata": {},
   "source": [
    "## Predictions with sklearn"
   ]
  },
  {
   "cell_type": "code",
   "execution_count": 165,
   "metadata": {},
   "outputs": [],
   "source": [
    "from sklearn.linear_model import LogisticRegression"
   ]
  },
  {
   "cell_type": "code",
   "execution_count": 178,
   "metadata": {},
   "outputs": [
    {
     "data": {
      "text/plain": [
       "LogisticRegression(C=10, class_weight=None, dual=False, fit_intercept=True,\n",
       "          intercept_scaling=1, max_iter=100, multi_class='ovr',\n",
       "          n_jobs=None, penalty='l2', random_state=None, solver='liblinear',\n",
       "          tol=0.0001, verbose=0, warm_start=False)"
      ]
     },
     "execution_count": 178,
     "metadata": {},
     "output_type": "execute_result"
    }
   ],
   "source": [
    "# C - Inverse of regularization strength\n",
    "# penalty - norm used in the penalization\n",
    "# solver - Algorithm to use in the optimization problem\n",
    "# specified multi_class to its default to avoid a future warning\n",
    "clf = LogisticRegression(C=10, penalty='l2', solver='liblinear', multi_class='ovr')\n",
    "\n",
    "# Scikit inserts the intercept (first column of 1s) so exclude it from my X\n",
    "clf.fit(X[:, 1:], y.ravel())"
   ]
  },
  {
   "cell_type": "code",
   "execution_count": 180,
   "metadata": {},
   "outputs": [
    {
     "name": "stdout",
     "output_type": "stream",
     "text": [
      "Training set accuracy: 93.26\n"
     ]
    }
   ],
   "source": [
    "model_predictions = clf.predict(X[:, 1:])\n",
    "model_accuracy = np.mean(predictions == y.ravel()) * 100\n",
    "print(\"Training set accuracy:\", model_accuracy)"
   ]
  },
  {
   "cell_type": "markdown",
   "metadata": {},
   "source": [
    "## Neural Networks\n",
    "First load given optimized theta values for each layer"
   ]
  },
  {
   "cell_type": "code",
   "execution_count": 182,
   "metadata": {},
   "outputs": [
    {
     "name": "stdout",
     "output_type": "stream",
     "text": [
      "theta_1 shape: (25, 401), min: -1.463369318005054, max: 1.0089920104197974\n",
      "theta_2 shape: (10, 26), min: -4.030847527504247, max: 3.2115848427114373\n"
     ]
    }
   ],
   "source": [
    "datafile = 'data/ex3weights.mat'\n",
    "mat = scipy.io.loadmat(datafile)\n",
    "theta_1, theta_2 = mat[\"Theta1\"], mat[\"Theta2\"]\n",
    "print(\"theta_1\", ndarray_description(theta_1))\n",
    "print(\"theta_2\", ndarray_description(theta_2))"
   ]
  },
  {
   "cell_type": "code",
   "execution_count": 212,
   "metadata": {},
   "outputs": [],
   "source": [
    "def predict_neural_network(theta_1, theta_2, features):\n",
    "    z2 = theta_1.dot(features.T)      # 25x401 dot 401x5000\n",
    "    a2 = expit(z2)                    # 25x5000\n",
    "    a2 = np.insert(a2, 0, 1, axis=0)  # 26x5000, insert row of 1s\n",
    "    \n",
    "    z3 = theta_2.dot(a2)  #10x5000\n",
    "    a3 = expit(z3)\n",
    "    \n",
    "    return np.argmax(a3, axis=1) + 1"
   ]
  },
  {
   "cell_type": "code",
   "execution_count": 220,
   "metadata": {},
   "outputs": [
    {
     "data": {
      "text/plain": [
       "(10,)"
      ]
     },
     "execution_count": 220,
     "metadata": {},
     "output_type": "execute_result"
    }
   ],
   "source": [
    "nn_predictions = predict_neural_network(theta_1, theta_2, X)\n",
    "nn_predictions.shape"
   ]
  },
  {
   "cell_type": "code",
   "execution_count": 219,
   "metadata": {},
   "outputs": [
    {
     "name": "stdout",
     "output_type": "stream",
     "text": [
      "Training set accuracy: 0.0\n"
     ]
    },
    {
     "name": "stderr",
     "output_type": "stream",
     "text": [
      "/Users/joeselvik/.virtualenvs/machine-learning-coursera/lib/python3.7/site-packages/ipykernel_launcher.py:4: DeprecationWarning: elementwise == comparison failed; this will raise an error in the future.\n",
      "  after removing the cwd from sys.path.\n"
     ]
    }
   ],
   "source": [
    "# accuracy = np.mean(predictions == y.ravel()) * 100\n",
    "# print(\"Training set accuracy:\", accuracy)\n",
    "\n",
    "nn_accuracy = np.mean(nn_predictions == y.ravel()) * 100\n",
    "print(\"Training set accuracy:\", nn_accuracy)"
   ]
  },
  {
   "cell_type": "code",
   "execution_count": null,
   "metadata": {},
   "outputs": [],
   "source": []
  }
 ],
 "metadata": {
  "kernelspec": {
   "display_name": "Python 3",
   "language": "python",
   "name": "python3"
  },
  "language_info": {
   "codemirror_mode": {
    "name": "ipython",
    "version": 3
   },
   "file_extension": ".py",
   "mimetype": "text/x-python",
   "name": "python",
   "nbconvert_exporter": "python",
   "pygments_lexer": "ipython3",
   "version": "3.7.0"
  }
 },
 "nbformat": 4,
 "nbformat_minor": 1
}
