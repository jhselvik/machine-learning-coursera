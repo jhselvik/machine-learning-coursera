{
 "cells": [
  {
   "cell_type": "code",
   "execution_count": 1,
   "metadata": {},
   "outputs": [],
   "source": [
    "import pandas as pd\n",
    "import numpy as np\n",
    "import matplotlib as mpl\n",
    "import matplotlib.pyplot as plt\n",
    "\n",
    "from scipy.io import loadmat\n",
    "from scipy.optimize import minimize\n",
    "\n",
    "from sklearn.linear_model import LinearRegression, Ridge\n",
    "from sklearn.preprocessing import PolynomialFeatures\n",
    "\n",
    "%matplotlib inline"
   ]
  },
  {
   "cell_type": "markdown",
   "metadata": {},
   "source": [
    "# Visualize the data"
   ]
  },
  {
   "cell_type": "code",
   "execution_count": 2,
   "metadata": {},
   "outputs": [],
   "source": [
    "def ndarray_description(x):\n",
    "    \"\"\"Quick information on NDArrays.\"\"\"\n",
    "    return \"shape: {}, min: {}, max: {}\".format(x.shape, x.min(), x.max())"
   ]
  },
  {
   "cell_type": "code",
   "execution_count": 3,
   "metadata": {},
   "outputs": [
    {
     "data": {
      "text/plain": [
       "dict_keys(['__header__', '__version__', '__globals__', 'X', 'y', 'Xtest', 'ytest', 'Xval', 'yval'])"
      ]
     },
     "execution_count": 3,
     "metadata": {},
     "output_type": "execute_result"
    }
   ],
   "source": [
    "data = loadmat('data/ex5data1.mat')\n",
    "data.keys()"
   ]
  },
  {
   "cell_type": "code",
   "execution_count": 4,
   "metadata": {},
   "outputs": [
    {
     "name": "stdout",
     "output_type": "stream",
     "text": [
      "X_train shape: (12, 2), min: -48.058829452570066, max: 37.49218733199513\n",
      "y_train shape: (12, 1), min: 1.1732566787564553, max: 36.83795516371235\n",
      "Xval shape: (21, 2), min: -50.01324364549543, max: 46.28236901853893\n",
      "yval shape: (21, 1), min: -4.387382739157175e-05, max: 52.781927979043786\n"
     ]
    }
   ],
   "source": [
    "y_train = data['y']\n",
    "X_train = np.c_[np.ones_like(data['X']), data['X']]\n",
    "\n",
    "yval = data['yval']\n",
    "Xval = np.c_[np.ones_like(data['Xval']), data['Xval']]\n",
    "\n",
    "print('X_train', ndarray_description(X_train))\n",
    "print('y_train', ndarray_description(y_train))\n",
    "print('Xval', ndarray_description(Xval))\n",
    "print('yval', ndarray_description(yval))"
   ]
  },
  {
   "cell_type": "code",
   "execution_count": 5,
   "metadata": {},
   "outputs": [
    {
     "data": {
      "image/png": "[encoded data removed]",
      "text/plain": [
       "<Figure size 432x288 with 1 Axes>"
      ]
     },
     "metadata": {
      "needs_background": "light"
     },
     "output_type": "display_data"
    }
   ],
   "source": [
    "plt.scatter(X_train[:,1], y_train, s=50, c='r', marker='x', linewidths=1)\n",
    "plt.xlabel('Change in water level (x)')\n",
    "plt.ylabel('Water flowing out of the dam (y)')\n",
    "plt.ylim(bottom=0);"
   ]
  },
  {
   "cell_type": "markdown",
   "metadata": {},
   "source": [
    "# Linear Regression"
   ]
  },
  {
   "cell_type": "code",
   "execution_count": 6,
   "metadata": {},
   "outputs": [],
   "source": [
    "def linear_regression_cost(theta, X, y, reg):\n",
    "    \"\"\"Vectorized cost function.\n",
    "    \n",
    "    :param numpy.ndarray theta: 2x1 parameter values\n",
    "    :param numpy.ndarray X: 12 examples (rows) with 2 input values\n",
    "    :param numpy.ndarray y: 12 examples (rows) with 1 result\n",
    "    :param int reg: lambda value\n",
    "    \"\"\"\n",
    "    m = y.size\n",
    "    h = X.dot(theta)\n",
    "    J = (1/(2*m))*np.sum(np.square(h-y)) + (reg/(2*m))*np.sum(np.square(theta[1:]))\n",
    "    return J"
   ]
  },
  {
   "cell_type": "code",
   "execution_count": 8,
   "metadata": {},
   "outputs": [],
   "source": [
    "def linear_regression_gradient(theta, X, y, reg):\n",
    "    \"\"\"Vectorized gradient function.\n",
    "    \n",
    "    :param numpy.ndarray theta: 2x1 parameter values\n",
    "    :param numpy.ndarray X: 12 examples (rows) with 2 input values\n",
    "    :param numpy.ndarray y: 12 examples (rows) with 1 result\n",
    "    :param int reg: lambda value\n",
    "    \"\"\"\n",
    "    m = y.size\n",
    "    h = X.dot(theta.reshape(-1, 1))\n",
    "    grad = (1/m)*(X.T.dot(h-y)) + (reg/m)*np.r_[[[0]], theta[1:].reshape(-1, 1)]\n",
    "    return grad.flatten()"
   ]
  },
  {
   "cell_type": "code",
   "execution_count": 10,
   "metadata": {
    "scrolled": true
   },
   "outputs": [
    {
     "name": "stdout",
     "output_type": "stream",
     "text": [
      "303.9515255535976\n",
      "[-15.30301567 598.16741084]\n"
     ]
    }
   ],
   "source": [
    "initial_theta = np.ones((X_train.shape[1], 1))\n",
    "cost = linear_regression_cost(initial_theta, X_train, y_train, 0)\n",
    "gradient = linear_regression_gradient(initial_theta, X_train, y_train, 0)\n",
    "print(cost)\n",
    "print(gradient)"
   ]
  },
  {
   "cell_type": "markdown",
   "metadata": {},
   "source": [
    "## scipy.optimize minimize"
   ]
  },
  {
   "cell_type": "code",
   "execution_count": 18,
   "metadata": {},
   "outputs": [],
   "source": [
    "def train_linear_regression(X, y, reg):\n",
    "    \"\"\"Use scipy's minimize function to find optimal parameter values.\n",
    "    \n",
    "    :param numpy.ndarray X: 12 examples (rows) with 2 input values\n",
    "    :param numpy.ndarray y: 12 examples (rows) with 1 result\n",
    "    :param int reg: lambda value\n",
    "    \"\"\"\n",
    "    # Not sure why init of ones returns an error...\n",
    "#     initial_theta = np.ones((X.shape[1], 1))  # 2x1\n",
    "    initial_theta = np.array([[15], [15]])\n",
    "    res = minimize(linear_regression_cost, initial_theta, args=(X, y, reg), method=None,\n",
    "                   jac=linear_regression_gradient, options={'maxiter': 5000})\n",
    "    return res"
   ]
  },
  {
   "cell_type": "code",
   "execution_count": 19,
   "metadata": {
    "scrolled": true
   },
   "outputs": [
    {
     "data": {
      "text/plain": [
       "      fun: 1604.4002999186632\n",
       " hess_inv: array([[1.03142187, 0.00617881],\n",
       "       [0.00617881, 0.001215  ]])\n",
       "      jac: array([ 3.4243719e-12, -5.7042134e-10])\n",
       "  message: 'Optimization terminated successfully.'\n",
       "     nfev: 6\n",
       "      nit: 4\n",
       "     njev: 6\n",
       "   status: 0\n",
       "  success: True\n",
       "        x: array([13.08790351,  0.36777923])"
      ]
     },
     "execution_count": 19,
     "metadata": {},
     "output_type": "execute_result"
    }
   ],
   "source": [
    "fit = train_linear_regression(X_train, y_train, 0)\n",
    "fit"
   ]
  },
  {
   "cell_type": "code",
   "execution_count": 25,
   "metadata": {},
   "outputs": [
    {
     "data": {
      "image/png": "[encoded data removed]",
      "text/plain": [
       "<Figure size 432x288 with 1 Axes>"
      ]
     },
     "metadata": {
      "needs_background": "light"
     },
     "output_type": "display_data"
    }
   ],
   "source": [
    "plt.plot(np.linspace(-50, 40), (fit.x[0] + (fit.x[1]*np.linspace(-50, 40))), label='Scipy minimize')\n",
    "plt.scatter(X_train[:, 1], y_train, s=50, c='r', marker='x', linewidths=1)\n",
    "plt.xlabel('Change in water level (x)')\n",
    "plt.ylabel('Water flowing out of the dam (y)')\n",
    "plt.ylim(bottom=-5)\n",
    "plt.xlim(left=-50)\n",
    "plt.legend(loc=4);"
   ]
  },
  {
   "cell_type": "markdown",
   "metadata": {},
   "source": [
    "## sklearn.linear_model LinearRegression\n",
    "Try using the LinearRegression model from sklearn. This way does not require a cost or gradient function."
   ]
  },
  {
   "cell_type": "code",
   "execution_count": 22,
   "metadata": {},
   "outputs": [
    {
     "name": "stdout",
     "output_type": "stream",
     "text": [
      "[13.08790351  0.36777923]\n",
      "1604.4002999211034\n"
     ]
    }
   ],
   "source": [
    "regr = LinearRegression(fit_intercept=False)\n",
    "regr.fit(X_train, y_train.ravel())\n",
    "print(regr.coef_)\n",
    "print(linear_regression_cost(regr.coef_, X_train, y_train, 0))"
   ]
  },
  {
   "cell_type": "markdown",
   "metadata": {},
   "source": [
    "# Learning Curves"
   ]
  },
  {
   "cell_type": "code",
   "execution_count": 27,
   "metadata": {},
   "outputs": [],
   "source": [
    "def learning_curve(X, y, Xval, yval, reg):\n",
    "    \"\"\"Calculate the error for subsets of training and cross validation examples.\n",
    "    \n",
    "    :param numpy.ndarray X: 12 examples (rows) with 2 input values\n",
    "    :param numpy.ndarray y: 12 examples (rows) with 1 result\n",
    "    :param numpy.ndarray Xval: 21 examples (rows) with 2 input values\n",
    "    :param numpy.ndarray yval: 21 examples (rows) with 1 result\n",
    "    :param int reg: lambda value\n",
    "    \"\"\"\n",
    "    m = y.size  # 12\n",
    "    error_train = np.zeros((m, 1))\n",
    "    error_val = np.zeros((m, 1))\n",
    "    \n",
    "    # 0 - 12\n",
    "    for i in np.arange(m):\n",
    "        res = train_linear_regression(X[:i+1], y[:i+1], reg)\n",
    "        error_train[i] = linear_regression_cost(res.x, X[:i+1], y[:i+1], reg)\n",
    "        error_val[i] = linear_regression_cost(res.x, Xval, yval, reg)\n",
    "    \n",
    "    return error_train, error_val"
   ]
  },
  {
   "cell_type": "code",
   "execution_count": 29,
   "metadata": {},
   "outputs": [
    {
     "name": "stdout",
     "output_type": "stream",
     "text": [
      "t_error shape: (12, 1), min: 8.874685183736383e-31, max: 1604.4002999186632\n",
      "v_error shape: (12, 1), min: 2778.991373616289, max: 8535.691204951885\n"
     ]
    }
   ],
   "source": [
    "t_error, v_error = learning_curve(X_train, y_train, Xval, yval, 0)\n",
    "print('t_error', ndarray_description(t_error))\n",
    "print('v_error', ndarray_description(v_error))"
   ]
  },
  {
   "cell_type": "code",
   "execution_count": 30,
   "metadata": {},
   "outputs": [
    {
     "data": {
      "image/png": "[encoded data removed]",
      "text/plain": [
       "<Figure size 432x288 with 1 Axes>"
      ]
     },
     "metadata": {
      "needs_background": "light"
     },
     "output_type": "display_data"
    }
   ],
   "source": [
    "plt.plot(np.arange(1, 13), t_error, label='Training error')\n",
    "plt.plot(np.arange(1, 13), v_error, label='Validation error')\n",
    "plt.title('Learning curve for linear regression')\n",
    "plt.xlabel('Number of training examples')\n",
    "plt.ylabel('Error')\n",
    "plt.legend();"
   ]
  }
 ],
 "metadata": {
  "kernelspec": {
   "display_name": "Python 3",
   "language": "python",
   "name": "python3"
  },
  "language_info": {
   "codemirror_mode": {
    "name": "ipython",
    "version": 3
   },
   "file_extension": ".py",
   "mimetype": "text/x-python",
   "name": "python",
   "nbconvert_exporter": "python",
   "pygments_lexer": "ipython3",
   "version": "3.7.0"
  }
 },
 "nbformat": 4,
 "nbformat_minor": 2
}
