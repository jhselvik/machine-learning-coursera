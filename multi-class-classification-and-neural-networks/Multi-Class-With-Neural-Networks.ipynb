{
 "cells": [
  {
   "cell_type": "code",
   "execution_count": 1,
   "metadata": {},
   "outputs": [],
   "source": [
    "%matplotlib inline\n",
    "import numpy as np\n",
    "import matplotlib.pyplot as plt\n",
    "import pandas as pd\n",
    "import scipy.io  # Used to load the OCTAVE *.mat files\n",
    "\n",
    "import scipy.misc                # Used to show matrix as an image\n",
    "import matplotlib.cm as cm       # Used to display images in a specific colormap\n",
    "import random\n",
    "from scipy.special import expit  # Vectorized sigmoid function"
   ]
  },
  {
   "cell_type": "code",
   "execution_count": 3,
   "metadata": {},
   "outputs": [
    {
     "name": "stdout",
     "output_type": "stream",
     "text": [
      "X dimensions: (5000, 400)\n",
      "y dimensions: (5000, 1)\n"
     ]
    }
   ],
   "source": [
    "datafile = 'data/ex3data1.mat'\n",
    "mat = scipy.io.loadmat(datafile)\n",
    "\n",
    "# insert column of ones\n",
    "X, y = mat['X'], mat['y']\n",
    "print(\"X dimensions:\", X.shape)  # 5000 images with 400 pixels (20x20)\n",
    "print(\"y dimensions:\", y.shape)  # "
   ]
  },
  {
   "cell_type": "code",
   "execution_count": null,
   "metadata": {},
   "outputs": [],
   "source": []
  }
 ],
 "metadata": {
  "kernelspec": {
   "display_name": "Python 3",
   "language": "python",
   "name": "python3"
  },
  "language_info": {
   "codemirror_mode": {
    "name": "ipython",
    "version": 3
   },
   "file_extension": ".py",
   "mimetype": "text/x-python",
   "name": "python",
   "nbconvert_exporter": "python",
   "pygments_lexer": "ipython3",
   "version": "3.7.0"
  }
 },
 "nbformat": 4,
 "nbformat_minor": 1
}
